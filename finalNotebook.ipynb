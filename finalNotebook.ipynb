{
 "cells": [
  {
   "cell_type": "code",
   "execution_count": 1,
   "id": "9dd0f5a5",
   "metadata": {},
   "outputs": [],
   "source": [
    "import pandas as pd\n",
    "import explore"
   ]
  },
  {
   "cell_type": "code",
   "execution_count": 2,
   "id": "9d33b076",
   "metadata": {},
   "outputs": [
    {
     "name": "stdout",
     "output_type": "stream",
     "text": [
      "------ Overview ------\n",
      "Passengers:  100000 \n",
      "Survived:  42774 \n",
      "Percent:  42.774 %\n",
      "------ Overview ------\n",
      "Passengers:  1319 \n",
      "Survived:  302 \n",
      "Percent:  22.896133434420015 %\n",
      "-------- Ports -------\n",
      "C:  168 \n",
      "Q:  52 \n",
      "S:  1093\n"
     ]
    }
   ],
   "source": [
    "train = pd.read_csv(\"data/train.csv\")\n",
    "explore.giveStats(train)\n",
    "explore.exploreTicket(train,\"SOTON\")"
   ]
  },
  {
   "cell_type": "code",
   "execution_count": null,
   "id": "32faac13",
   "metadata": {},
   "outputs": [],
   "source": []
  }
 ],
 "metadata": {
  "kernelspec": {
   "display_name": "Python 3",
   "language": "python",
   "name": "python3"
  },
  "language_info": {
   "codemirror_mode": {
    "name": "ipython",
    "version": 3
   },
   "file_extension": ".py",
   "mimetype": "text/x-python",
   "name": "python",
   "nbconvert_exporter": "python",
   "pygments_lexer": "ipython3",
   "version": "3.9.2"
  }
 },
 "nbformat": 4,
 "nbformat_minor": 5
}
